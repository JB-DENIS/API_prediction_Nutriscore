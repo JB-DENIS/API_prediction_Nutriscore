{
 "cells": [
  {
   "cell_type": "markdown",
   "metadata": {
    "colab_type": "text",
    "id": "0RlwxDvN2Rzt"
   },
   "source": [
    "#PROJET 3 Concevez une application au service de la santé publique"
   ]
  },
  {
   "cell_type": "markdown",
   "metadata": {
    "colab_type": "text",
    "id": "DPDmte0_2Xzw"
   },
   "source": [
    "#APPLICATION - MODELISATION DU NUTRI-SCORE"
   ]
  },
  {
   "cell_type": "code",
   "execution_count": null,
   "metadata": {
    "colab": {
     "base_uri": "https://localhost:8080/",
     "height": 122
    },
    "colab_type": "code",
    "id": "bTCPMzOQ_aiK",
    "outputId": "3f46b448-d27f-4a01-d044-2fa504f60dfe"
   },
   "outputs": [
    {
     "name": "stdout",
     "output_type": "stream",
     "text": [
      "Go to this URL in a browser: https://accounts.google.com/o/oauth2/auth?client_id=947318989803-6bn6qk8qdgf4n4g3pfee6491hc0brc4i.apps.googleusercontent.com&redirect_uri=urn%3aietf%3awg%3aoauth%3a2.0%3aoob&scope=email%20https%3a%2f%2fwww.googleapis.com%2fauth%2fdocs.test%20https%3a%2f%2fwww.googleapis.com%2fauth%2fdrive%20https%3a%2f%2fwww.googleapis.com%2fauth%2fdrive.photos.readonly%20https%3a%2f%2fwww.googleapis.com%2fauth%2fpeopleapi.readonly&response_type=code\n",
      "\n",
      "Enter your authorization code:\n",
      "··········\n",
      "Mounted at /content/drive\n"
     ]
    }
   ],
   "source": [
    "from google.colab import drive\n",
    "drive.mount('/content/drive')"
   ]
  },
  {
   "cell_type": "code",
   "execution_count": null,
   "metadata": {
    "colab": {},
    "colab_type": "code",
    "id": "aMvaLRBM_n7v"
   },
   "outputs": [],
   "source": [
    "import os\n",
    "os.chdir('/content/drive/My Drive/Colab Notebooks/')"
   ]
  },
  {
   "cell_type": "markdown",
   "metadata": {
    "colab_type": "text",
    "id": "UoVp2fEc_593"
   },
   "source": [
    "##Fonctions Outils"
   ]
  },
  {
   "cell_type": "code",
   "execution_count": 1,
   "metadata": {
    "colab": {},
    "colab_type": "code",
    "id": "vlwiPFlT_0Ne"
   },
   "outputs": [],
   "source": [
    "# FONCTIONS OUTILS : \n",
    "\n",
    "import numpy as np\n",
    "import pandas as pd\n",
    " \n",
    "#fonction pour nettoyer l'entrée\n",
    "def nettoyage_dataset_une_entree(datafram):\n",
    " \n",
    "  frame=datafram.copy()\n",
    "  er1='Pas assez de donnée'\n",
    "  er2='Erreur dans les données'\n",
    " \n",
    "  #Vérification du taux de NaN \n",
    "  taux_Nan=frame.iloc[0].isnull().sum()/(len(frame.columns))*100\n",
    "  if taux_Nan > 35:\n",
    "    return er1\n",
    " \n",
    "  #Vérification des entrées n'ayant que des valeurs nulles\n",
    "  som_ind=frame.iloc[0].sum()\n",
    "  if som_ind == 0 :\n",
    "    return er1\n",
    " \n",
    "  #Vérification des valeurs négatives (si valeur inf à 0 renvoi un NaN)\n",
    "  data_work_nega=frame.copy()\n",
    "  col_name1=['energy-kcal_100g',    'fat_100g', 'carbohydrates_100g',   'fiber_100g',   'proteins_100g',    'salt_100g']\n",
    "  for col in col_name1:\n",
    "    data_work_nega[col]=[val if val>=0 else np.NaN for val in data_work_nega[col]]\n",
    " \n",
    "  #Vérification des valeurs suppérieur à 100g (si valeur sup à 100 renvoi un NaN)\n",
    "  data_work_sup=data_work_nega.copy()\n",
    "  col_name2 = ['fat_100g',  'carbohydrates_100g',   'fiber_100g',   'proteins_100g',    'salt_100g']\n",
    "  for col in col_name2:\n",
    "    data_work_sup[col]=[val if val<=100 else np.NaN for val in data_work_sup[col]]\n",
    " \n",
    "  #Vérification de energy-kcal_100g borné au 99.5eme percentile (si valeur sup renvoi un NaN)\n",
    "  data_work_nrj_pe=data_work_sup.copy()\n",
    "  per_99=900 #valeur calculer sur le dataset training\n",
    "  data_work_nrj_pe['energy-kcal_100g']=[val if val <= per_99  else np.NaN for val in data_work_nrj_pe['energy-kcal_100g']]\n",
    " \n",
    "  #Vérification des entrées dont la somme de ses constituants est supérieur à 100g\n",
    "  som_ind_const=frame.iloc[0,1:6].sum()\n",
    "  if som_ind_const > 100 :\n",
    "    err=er2+': somme des constituants supérieur à 100g'\n",
    "    return err\n",
    " \n",
    "  #Vérification du taux de NaN \n",
    "  taux_Nan2=data_work_nrj_pe.iloc[0].isnull().sum()/(len(data_work_nrj_pe.columns))*100\n",
    "  if taux_Nan2 > 35:\n",
    "    return er2\n",
    " \n",
    "  #formatage du dataset cleané\n",
    "  final_data=data_work_nrj_pe.copy()\n",
    "  \n",
    "  return final_data\n",
    " \n",
    "\n",
    " \n",
    " \n",
    "#fonction pour prédire le nutrition score \n",
    "def nutrition_grade_mod(frame_a_pred,scaler_save,knn_save):\n",
    " \n",
    "  frame=frame_a_pred.copy()\n",
    "  \n",
    "  from sklearn import neighbors\n",
    "  from sklearn.preprocessing import StandardScaler\n",
    "  import pickle\n",
    " \n",
    "  #normalisation \n",
    "  scaler = pickle.load(open(scaler_save, 'rb'))\n",
    "  scal_value=scaler.transform(frame)\n",
    "  \n",
    "  #data_set normé\n",
    "  colon_name=['energy-kcal_100g',   'fat_100g', 'carbohydrates_100g',   'fiber_100g',   'proteins_100g',    'salt_100g']\n",
    "  data_scal_frame=pd.DataFrame(scal_value,columns=colon_name)\n",
    "  data_scal_frame=data_scal_frame.fillna(0)\n",
    " \n",
    "  #prédiction du nutrition score\n",
    "  knn = pickle.load(open(knn_save, 'rb'))\n",
    "  predic_test = knn.predict(data_scal_frame)\n",
    " \n",
    "  return predic_test\n",
    " \n",
    "\n",
    "\n",
    " \n",
    "#fonction pour attriber le nutrition grade\n",
    "def nutri_score_lettre_mod(frame):\n",
    "  \n",
    "  nutri_scor_letr = []\n",
    "  \n",
    "  for scor in frame['nutritionscore_mod']:\n",
    "    \n",
    "    if scor >= frame['nutritionscore_mod'].min() and scor <= -1:\n",
    "      nutri_scor_letr.append('A')\n",
    "    if scor >-1 and scor <= 4:\n",
    "      nutri_scor_letr.append('B')\n",
    "    if scor >4 and scor <= 12:\n",
    "      nutri_scor_letr.append('C')\n",
    "    if scor >12 and scor <= 17:\n",
    "      nutri_scor_letr.append('D')\n",
    "    if scor >17 and scor <= frame['nutritionscore_mod'].max():\n",
    "      nutri_scor_letr.append('E')\n",
    "  \n",
    "  frame['nutriscore_grade'] = nutri_scor_letr\n",
    "  \n",
    "  return frame\n",
    "\n",
    "\n",
    "\n",
    "\n",
    "#fonction modélisation nutrition grade\n",
    "def modelisation_nutrition_grade():\n",
    "    \n",
    "  #Récupération des valeurs d'entrée\n",
    "  NAME=input('Nom du produit :')\n",
    "  NRJ=input('Energie (kcal pour 100g) :')\n",
    "  GRAS=input('Gras (g pour 100g) :')\n",
    "  SUCRE=input('Sucre (g pour 100g) :')\n",
    "  FIBRE=input('Fibre (g pour 100g) :')\n",
    "  PROT=input('Protéines (g pour 100g) :')\n",
    "  SEL= input('Sel (g pour 100g) :')\n",
    " \n",
    "  list_input =[NRJ,GRAS,SUCRE,FIBRE,PROT,SEL]\n",
    "  list_input_i=[]\n",
    " \n",
    "  for i in list_input:\n",
    "\n",
    "    if i != '':\n",
    "      list_input_i.append(float(i))\n",
    "    elif i == '':\n",
    "      list_input_i.append(np.NaN)\n",
    " \n",
    "  #Formatage de l'entrée\n",
    "  colon_name=['energy-kcal_100g',   'fat_100g', 'carbohydrates_100g',   'fiber_100g',   'proteins_100g',    'salt_100g']\n",
    "  data_input=pd.DataFrame([list_input_i],columns=colon_name)\n",
    " \n",
    "  #Nettoyage de l'entrée\n",
    "  data_clean=nettoyage_dataset_une_entree(data_input)\n",
    "  if type(data_clean) is str:\n",
    "    return data_clean\n",
    " \n",
    "  #Prediction du nutrition score\n",
    "  predic_scor=nutrition_grade_mod(data_clean,'scaler_mod.pickle','knn_mod.pickle')\n",
    " \n",
    "  #Formatage du set\n",
    "  scor_mod_round=np.around(predic_scor)\n",
    "  data_output=pd.DataFrame()\n",
    "  data_output['nutritionscore_mod']=scor_mod_round\n",
    "  data_output['product_name']=NAME\n",
    "  data_output=data_output.set_index(data_output['product_name'])\n",
    "  data_output=data_output.drop(['product_name'],axis=1)\n",
    " \n",
    "  #Attribution du nutrition grade\n",
    "  set_mod_final=nutri_score_lettre_mod(data_output)\n",
    " \n",
    "  return set_mod_final\n",
    "\n",
    "\n",
    "\n",
    "\n",
    "#fonction pour recuillir les entrées\n",
    "def modelisation_nutrition_grade_multiple():\n",
    "  \n",
    "  nb_entre=input('Nombre de produit à scorer :')\n",
    "\n",
    "  colon_name_n=['product_name', 'nutritionscore_mod',\t'nutriscore_grade']\n",
    "  data_entree_mod = pd.DataFrame(columns=colon_name_n)\n",
    "  \n",
    "  print('-'*30)\n",
    "\n",
    "  for n in range (int(nb_entre)):\n",
    "    \n",
    "    print('Entrée', n+1, ':')\n",
    "    entree_n=modelisation_nutrition_grade()\n",
    "\n",
    "    if type(entree_n) is str:\n",
    "      ligne_erreur= entree_n + (' dans l\\'entrée') + str(n+1)\n",
    "\n",
    "      return ligne_erreur\n",
    "\n",
    "    entree_n_cop=entree_n.copy()\n",
    "    entree_n_cop=entree_n_cop.reset_index(drop=False)\n",
    "    data_entree_mod.loc[n]=entree_n_cop.loc[0]\n",
    "\n",
    "    print('-'*30)\n",
    "\n",
    "  return data_entree_mod"
   ]
  },
  {
   "cell_type": "markdown",
   "metadata": {
    "colab_type": "text",
    "id": "wPZOb3Ep2t0t"
   },
   "source": [
    "##Application"
   ]
  },
  {
   "cell_type": "code",
   "execution_count": null,
   "metadata": {
    "colab": {
     "base_uri": "https://localhost:8080/",
     "height": 451
    },
    "colab_type": "code",
    "id": "YVlunJ5rCrXM",
    "outputId": "9c88c50a-8ece-4711-9d3a-adcfdf047766"
   },
   "outputs": [
    {
     "name": "stdout",
     "output_type": "stream",
     "text": [
      "Nombre de produit à scorer :2\n",
      "------------------------------\n",
      "Entrée 1 :\n",
      "Nom du produit :Pavé de saumon fumée\n",
      "Energie (kcal pour 100g) :253\n",
      "Gras (g pour 100g) :17\n",
      "Sucre (g pour 100g) :0.5\n",
      "Fibre (g pour 100g) :\n",
      "Protéines (g pour 100g) :23\n",
      "Sel (g pour 100g) :2.5\n",
      "------------------------------\n",
      "Entrée 2 :\n",
      "Nom du produit :Gressin\n",
      "Energie (kcal pour 100g) :442\n",
      "Gras (g pour 100g) :11\n",
      "Sucre (g pour 100g) :73\n",
      "Fibre (g pour 100g) :3.5\n",
      "Protéines (g pour 100g) :11\n",
      "Sel (g pour 100g) :\n",
      "------------------------------\n"
     ]
    },
    {
     "data": {
      "text/html": [
       "<div>\n",
       "<style scoped>\n",
       "    .dataframe tbody tr th:only-of-type {\n",
       "        vertical-align: middle;\n",
       "    }\n",
       "\n",
       "    .dataframe tbody tr th {\n",
       "        vertical-align: top;\n",
       "    }\n",
       "\n",
       "    .dataframe thead th {\n",
       "        text-align: right;\n",
       "    }\n",
       "</style>\n",
       "<table border=\"1\" class=\"dataframe\">\n",
       "  <thead>\n",
       "    <tr style=\"text-align: right;\">\n",
       "      <th></th>\n",
       "      <th>product_name</th>\n",
       "      <th>nutritionscore_mod</th>\n",
       "      <th>nutriscore_grade</th>\n",
       "    </tr>\n",
       "  </thead>\n",
       "  <tbody>\n",
       "    <tr>\n",
       "      <th>0</th>\n",
       "      <td>Pavé de saumon fumée</td>\n",
       "      <td>14.0</td>\n",
       "      <td>D</td>\n",
       "    </tr>\n",
       "    <tr>\n",
       "      <th>1</th>\n",
       "      <td>Gressin</td>\n",
       "      <td>7.0</td>\n",
       "      <td>C</td>\n",
       "    </tr>\n",
       "  </tbody>\n",
       "</table>\n",
       "</div>"
      ],
      "text/plain": [
       "           product_name  nutritionscore_mod nutriscore_grade\n",
       "0  Pavé de saumon fumée                14.0                D\n",
       "1               Gressin                 7.0                C"
      ]
     },
     "execution_count": 9,
     "metadata": {
      "tags": []
     },
     "output_type": "execute_result"
    }
   ],
   "source": [
    "modelisation_nutrition_grade_multiple()"
   ]
  },
  {
   "cell_type": "markdown",
   "metadata": {
    "colab_type": "text",
    "id": "lxG_49hRxp7D"
   },
   "source": [
    "## Evaluation de la qualité du modèle"
   ]
  },
  {
   "cell_type": "code",
   "execution_count": null,
   "metadata": {
    "colab": {
     "base_uri": "https://localhost:8080/",
     "height": 1000
    },
    "colab_type": "code",
    "id": "_g7gP0myjQG0",
    "outputId": "28ea7ba4-2e77-4727-c137-85f25289c951"
   },
   "outputs": [
    {
     "name": "stdout",
     "output_type": "stream",
     "text": [
      "Nombre de produit à scorer :6\n",
      "------------------------------\n",
      "Entrée 1 :\n",
      "Nom du produit :6\n",
      "Energie (kcal pour 100g) :538\n",
      "Gras (g pour 100g) :30.8\n",
      "Sucre (g pour 100g) :57.5\n",
      "Fibre (g pour 100g) :0.1\n",
      "Protéines (g pour 100g) :6.3\n",
      "Sel (g pour 100g) :0.107\n",
      "------------------------------\n",
      "Entrée 2 :\n",
      "Nom du produit :5\n",
      "Energie (kcal pour 100g) :538\n",
      "Gras (g pour 100g) :30.8\n",
      "Sucre (g pour 100g) :57.5\n",
      "Fibre (g pour 100g) :\n",
      "Protéines (g pour 100g) :6.3\n",
      "Sel (g pour 100g) :0.107\n",
      "------------------------------\n",
      "Entrée 3 :\n",
      "Nom du produit :4\n",
      "Energie (kcal pour 100g) :538\n",
      "Gras (g pour 100g) :30.8\n",
      "Sucre (g pour 100g) :57.5\n",
      "Fibre (g pour 100g) :\n",
      "Protéines (g pour 100g) :6.3\n",
      "Sel (g pour 100g) :\n",
      "------------------------------\n",
      "Entrée 4 :\n",
      "Nom du produit :3\n",
      "Energie (kcal pour 100g) :538\n",
      "Gras (g pour 100g) :30.8\n",
      "Sucre (g pour 100g) :57.5\n",
      "Fibre (g pour 100g) :\n",
      "Protéines (g pour 100g) :\n",
      "Sel (g pour 100g) :\n",
      "------------------------------\n",
      "Entrée 5 :\n",
      "Nom du produit :2\n",
      "Energie (kcal pour 100g) :538\n",
      "Gras (g pour 100g) :\n",
      "Sucre (g pour 100g) :57.5\n",
      "Fibre (g pour 100g) :\n",
      "Protéines (g pour 100g) :\n",
      "Sel (g pour 100g) :\n",
      "------------------------------\n",
      "Entrée 6 :\n",
      "Nom du produit :1\n",
      "Energie (kcal pour 100g) :538\n",
      "Gras (g pour 100g) :\n",
      "Sucre (g pour 100g) :\n",
      "Fibre (g pour 100g) :\n",
      "Protéines (g pour 100g) :\n",
      "Sel (g pour 100g) :\n",
      "------------------------------\n"
     ]
    },
    {
     "data": {
      "text/html": [
       "<div>\n",
       "<style scoped>\n",
       "    .dataframe tbody tr th:only-of-type {\n",
       "        vertical-align: middle;\n",
       "    }\n",
       "\n",
       "    .dataframe tbody tr th {\n",
       "        vertical-align: top;\n",
       "    }\n",
       "\n",
       "    .dataframe thead th {\n",
       "        text-align: right;\n",
       "    }\n",
       "</style>\n",
       "<table border=\"1\" class=\"dataframe\">\n",
       "  <thead>\n",
       "    <tr style=\"text-align: right;\">\n",
       "      <th></th>\n",
       "      <th>product_name</th>\n",
       "      <th>nutritionscore_mod</th>\n",
       "      <th>nutriscore_grade</th>\n",
       "    </tr>\n",
       "  </thead>\n",
       "  <tbody>\n",
       "    <tr>\n",
       "      <th>0</th>\n",
       "      <td>6</td>\n",
       "      <td>26.0</td>\n",
       "      <td>E</td>\n",
       "    </tr>\n",
       "    <tr>\n",
       "      <th>1</th>\n",
       "      <td>5</td>\n",
       "      <td>26.0</td>\n",
       "      <td>E</td>\n",
       "    </tr>\n",
       "    <tr>\n",
       "      <th>2</th>\n",
       "      <td>4</td>\n",
       "      <td>20.0</td>\n",
       "      <td>E</td>\n",
       "    </tr>\n",
       "    <tr>\n",
       "      <th>3</th>\n",
       "      <td>3</td>\n",
       "      <td>22.0</td>\n",
       "      <td>E</td>\n",
       "    </tr>\n",
       "    <tr>\n",
       "      <th>4</th>\n",
       "      <td>2</td>\n",
       "      <td>20.0</td>\n",
       "      <td>E</td>\n",
       "    </tr>\n",
       "    <tr>\n",
       "      <th>5</th>\n",
       "      <td>1</td>\n",
       "      <td>15.0</td>\n",
       "      <td>D</td>\n",
       "    </tr>\n",
       "  </tbody>\n",
       "</table>\n",
       "</div>"
      ],
      "text/plain": [
       "  product_name  nutritionscore_mod nutriscore_grade\n",
       "0            6                26.0                E\n",
       "1            5                26.0                E\n",
       "2            4                20.0                E\n",
       "3            3                22.0                E\n",
       "4            2                20.0                E\n",
       "5            1                15.0                D"
      ]
     },
     "execution_count": 8,
     "metadata": {
      "tags": []
     },
     "output_type": "execute_result"
    }
   ],
   "source": [
    "#evalutation de la qualité du modèle en fonction de la quantité d'information\n",
    "modelisation_nutrition_grade_multiple()"
   ]
  },
  {
   "cell_type": "code",
   "execution_count": null,
   "metadata": {
    "colab": {
     "base_uri": "https://localhost:8080/",
     "height": 312
    },
    "colab_type": "code",
    "id": "X_spKdtAKncc",
    "outputId": "5d1543ce-0f0a-4fb3-d11a-9d851ba36f38"
   },
   "outputs": [
    {
     "data": {
      "text/plain": [
       "Text(0.5, 0, 'Nb indicateur')"
      ]
     },
     "execution_count": 23,
     "metadata": {
      "tags": []
     },
     "output_type": "execute_result"
    },
    {
     "data": {
      "image/png": "[encoded data removed]",
      "text/plain": [
       "<Figure size 432x288 with 1 Axes>"
      ]
     },
     "metadata": {
      "needs_background": "light",
      "tags": []
     },
     "output_type": "display_data"
    }
   ],
   "source": [
    "x=np.array([1,2,3,4,5,6])\n",
    "y=np.array([15,20,22,20,26,26])\n",
    "err=(26-y)/26*100\n",
    "\n",
    "import matplotlib.pyplot as plt\n",
    "plt.plot(x,y,'--',label='Nutri-score mod')\n",
    "plt.plot(x,err,'o',label='%erreur')\n",
    "plt.plot([1,6],[26,26])\n",
    "plt.title('Qualité du modèle en fonction du nb d\\'indicateur')\n",
    "plt.legend(loc='upper right')\n",
    "plt.xlabel(\"Nb indicateur\")"
   ]
  },
  {
   "cell_type": "code",
   "execution_count": null,
   "metadata": {
    "colab": {},
    "colab_type": "code",
    "id": "4GAHqYdPLL_q"
   },
   "outputs": [],
   "source": []
  }
 ],
 "metadata": {
  "colab": {
   "collapsed_sections": [
    "DPDmte0_2Xzw",
    "UoVp2fEc_593",
    "wPZOb3Ep2t0t",
    "lxG_49hRxp7D"
   ],
   "name": "P3 APPLICATION VF",
   "provenance": [],
   "toc_visible": true
  },
  "kernelspec": {
   "display_name": "Python 3",
   "language": "python",
   "name": "python3"
  },
  "language_info": {
   "codemirror_mode": {
    "name": "ipython",
    "version": 3
   },
   "file_extension": ".py",
   "mimetype": "text/x-python",
   "name": "python",
   "nbconvert_exporter": "python",
   "pygments_lexer": "ipython3",
   "version": "3.7.6"
  }
 },
 "nbformat": 4,
 "nbformat_minor": 1
}
